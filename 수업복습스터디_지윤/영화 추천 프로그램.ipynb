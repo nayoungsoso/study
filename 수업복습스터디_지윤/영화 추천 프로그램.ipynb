{
 "cells": [
  {
   "cell_type": "markdown",
   "id": "4a5c93d1-3145-4816-9be7-5bcf7f72fcd3",
   "metadata": {},
   "source": [
    "## 영화 추천 프로그램\n",
    "- 제목을 틀려도 가장 유사한 제목을 알아서 찾아서 검색\n",
    "- 대소문자 상관없이\n",
    "- 한글은 제외"
   ]
  },
  {
   "cell_type": "code",
   "execution_count": 2,
   "id": "3cb1a57e-da68-44c0-ad0f-7c8d557eff4b",
   "metadata": {},
   "outputs": [],
   "source": [
    "from IPython.core.interactiveshell import InteractiveShell\n",
    "InteractiveShell.ast_node_interactivity=\"all\""
   ]
  },
  {
   "cell_type": "code",
   "execution_count": 3,
   "id": "6c74100c-1989-484e-8876-35bfb9870f58",
   "metadata": {},
   "outputs": [
    {
     "data": {
      "text/html": [
       "<div>\n",
       "<style scoped>\n",
       "    .dataframe tbody tr th:only-of-type {\n",
       "        vertical-align: middle;\n",
       "    }\n",
       "\n",
       "    .dataframe tbody tr th {\n",
       "        vertical-align: top;\n",
       "    }\n",
       "\n",
       "    .dataframe thead th {\n",
       "        text-align: right;\n",
       "    }\n",
       "</style>\n",
       "<table border=\"1\" class=\"dataframe\">\n",
       "  <thead>\n",
       "    <tr style=\"text-align: right;\">\n",
       "      <th></th>\n",
       "      <th>Unnamed: 0.1</th>\n",
       "      <th>Desc</th>\n",
       "      <th>Unnamed: 0</th>\n",
       "      <th>author</th>\n",
       "      <th>genre</th>\n",
       "      <th>image_link</th>\n",
       "      <th>rating</th>\n",
       "      <th>title</th>\n",
       "    </tr>\n",
       "  </thead>\n",
       "  <tbody>\n",
       "    <tr>\n",
       "      <th>0</th>\n",
       "      <td>0</td>\n",
       "      <td>We know that power is shifting: From West to E...</td>\n",
       "      <td>0.0</td>\n",
       "      <td>Moisés Naím</td>\n",
       "      <td>Business</td>\n",
       "      <td>https://i.gr-assets.com/images/S/compressed.ph...</td>\n",
       "      <td>3.63</td>\n",
       "      <td>The End of Power: From Boardrooms to Battlefie...</td>\n",
       "    </tr>\n",
       "    <tr>\n",
       "      <th>1</th>\n",
       "      <td>1</td>\n",
       "      <td>Following the success of The Accidental Billio...</td>\n",
       "      <td>1.0</td>\n",
       "      <td>Blake J. Harris</td>\n",
       "      <td>Business</td>\n",
       "      <td>https://i.gr-assets.com/images/S/compressed.ph...</td>\n",
       "      <td>3.94</td>\n",
       "      <td>Console Wars: Sega, Nintendo, and the Battle t...</td>\n",
       "    </tr>\n",
       "    <tr>\n",
       "      <th>2</th>\n",
       "      <td>2</td>\n",
       "      <td>How to tap the power of social software and ne...</td>\n",
       "      <td>2.0</td>\n",
       "      <td>Chris Brogan</td>\n",
       "      <td>Business</td>\n",
       "      <td>https://i.gr-assets.com/images/S/compressed.ph...</td>\n",
       "      <td>3.78</td>\n",
       "      <td>Trust Agents: Using the Web to Build Influence...</td>\n",
       "    </tr>\n",
       "    <tr>\n",
       "      <th>3</th>\n",
       "      <td>3</td>\n",
       "      <td>William J. Bernstein is an American financial ...</td>\n",
       "      <td>3.0</td>\n",
       "      <td>William J. Bernstein</td>\n",
       "      <td>Business</td>\n",
       "      <td>https://i.gr-assets.com/images/S/compressed.ph...</td>\n",
       "      <td>4.20</td>\n",
       "      <td>The Four Pillars of Investing</td>\n",
       "    </tr>\n",
       "    <tr>\n",
       "      <th>4</th>\n",
       "      <td>4</td>\n",
       "      <td>Amazing book. And I joined Steve Jobs and many...</td>\n",
       "      <td>4.0</td>\n",
       "      <td>Akio Morita</td>\n",
       "      <td>Business</td>\n",
       "      <td>https://i.gr-assets.com/images/S/compressed.ph...</td>\n",
       "      <td>4.05</td>\n",
       "      <td>Made in Japan: Akio Morita and Sony</td>\n",
       "    </tr>\n",
       "  </tbody>\n",
       "</table>\n",
       "</div>"
      ],
      "text/plain": [
       "   Unnamed: 0.1                                               Desc  \\\n",
       "0             0  We know that power is shifting: From West to E...   \n",
       "1             1  Following the success of The Accidental Billio...   \n",
       "2             2  How to tap the power of social software and ne...   \n",
       "3             3  William J. Bernstein is an American financial ...   \n",
       "4             4  Amazing book. And I joined Steve Jobs and many...   \n",
       "\n",
       "   Unnamed: 0                author     genre  \\\n",
       "0         0.0           Moisés Naím  Business   \n",
       "1         1.0       Blake J. Harris  Business   \n",
       "2         2.0          Chris Brogan  Business   \n",
       "3         3.0  William J. Bernstein  Business   \n",
       "4         4.0           Akio Morita  Business   \n",
       "\n",
       "                                          image_link  rating  \\\n",
       "0  https://i.gr-assets.com/images/S/compressed.ph...    3.63   \n",
       "1  https://i.gr-assets.com/images/S/compressed.ph...    3.94   \n",
       "2  https://i.gr-assets.com/images/S/compressed.ph...    3.78   \n",
       "3  https://i.gr-assets.com/images/S/compressed.ph...    4.20   \n",
       "4  https://i.gr-assets.com/images/S/compressed.ph...    4.05   \n",
       "\n",
       "                                               title  \n",
       "0  The End of Power: From Boardrooms to Battlefie...  \n",
       "1  Console Wars: Sega, Nintendo, and the Battle t...  \n",
       "2  Trust Agents: Using the Web to Build Influence...  \n",
       "3                      The Four Pillars of Investing  \n",
       "4                Made in Japan: Akio Morita and Sony  "
      ]
     },
     "execution_count": 3,
     "metadata": {},
     "output_type": "execute_result"
    }
   ],
   "source": [
    "import pandas as pd\n",
    "df = pd.read_csv(\"./data/data.csv\")\n",
    "df.head()"
   ]
  },
  {
   "cell_type": "code",
   "execution_count": 4,
   "id": "257a5c15-2bdf-4e16-91bf-f8e71a9cc554",
   "metadata": {},
   "outputs": [
    {
     "name": "stdout",
     "output_type": "stream",
     "text": [
      "<class 'pandas.core.frame.DataFrame'>\n",
      "RangeIndex: 2382 entries, 0 to 2381\n",
      "Data columns (total 8 columns):\n",
      " #   Column        Non-Null Count  Dtype  \n",
      "---  ------        --------------  -----  \n",
      " 0   Unnamed: 0.1  2382 non-null   int64  \n",
      " 1   Desc          2382 non-null   object \n",
      " 2   Unnamed: 0    1185 non-null   float64\n",
      " 3   author        2382 non-null   object \n",
      " 4   genre         2382 non-null   object \n",
      " 5   image_link    2382 non-null   object \n",
      " 6   rating        2382 non-null   float64\n",
      " 7   title         2382 non-null   object \n",
      "dtypes: float64(2), int64(1), object(5)\n",
      "memory usage: 149.0+ KB\n"
     ]
    }
   ],
   "source": [
    "df.info()"
   ]
  },
  {
   "cell_type": "code",
   "execution_count": 5,
   "id": "253475d3-d64e-4848-8fd4-ed49f029c37e",
   "metadata": {},
   "outputs": [],
   "source": [
    "from nltk.tokenize import RegexpTokenizer\n",
    "from nltk.corpus import stopwords\n",
    "import re\n",
    "\n",
    "# 아스키 문자 아니면 제거  \n",
    "def _removeNonAscii(s):\n",
    "    return \"\".join(i for i in s if  ord(i)<128) # chr(128) : '\\x80'\n",
    "\n",
    "def make_lower_case(text):\n",
    "    return text.lower()\n",
    "\n",
    "def remove_stop_words(text):\n",
    "    text = text.split()\n",
    "    stops = set(stopwords.words(\"english\"))\n",
    "    text = [w for w in text if not w in stops]\n",
    "    text = \" \".join(text)\n",
    "    return text\n",
    "\n",
    "def remove_html(text):\n",
    "    html_pattern = re.compile('<.*?>')\n",
    "    return html_pattern.sub(r'', text)\n",
    "\n",
    "def remove_punctuation(text):\n",
    "    tokenizer = RegexpTokenizer(r'[a-zA-Z]+')\n",
    "    text = tokenizer.tokenize(text)\n",
    "    text = \" \".join(text)\n",
    "    return text\n",
    "\n",
    "df['cleaned'] = df['Desc'].apply(_removeNonAscii)\n",
    "df['cleaned'] = df.cleaned.apply(make_lower_case)\n",
    "df['cleaned'] = df.cleaned.apply(remove_stop_words)\n",
    "df['cleaned'] = df.cleaned.apply(remove_punctuation)\n",
    "df['cleaned'] = df.cleaned.apply(remove_html)"
   ]
  },
  {
   "cell_type": "code",
   "execution_count": 6,
   "id": "fa6e5b04-96b6-49a8-9d39-e77d51361c01",
   "metadata": {},
   "outputs": [
    {
     "data": {
      "text/html": [
       "<div>\n",
       "<style scoped>\n",
       "    .dataframe tbody tr th:only-of-type {\n",
       "        vertical-align: middle;\n",
       "    }\n",
       "\n",
       "    .dataframe tbody tr th {\n",
       "        vertical-align: top;\n",
       "    }\n",
       "\n",
       "    .dataframe thead th {\n",
       "        text-align: right;\n",
       "    }\n",
       "</style>\n",
       "<table border=\"1\" class=\"dataframe\">\n",
       "  <thead>\n",
       "    <tr style=\"text-align: right;\">\n",
       "      <th></th>\n",
       "      <th>Unnamed: 0.1</th>\n",
       "      <th>Desc</th>\n",
       "      <th>Unnamed: 0</th>\n",
       "      <th>author</th>\n",
       "      <th>genre</th>\n",
       "      <th>image_link</th>\n",
       "      <th>rating</th>\n",
       "      <th>title</th>\n",
       "      <th>cleaned</th>\n",
       "      <th>title_cleaned</th>\n",
       "    </tr>\n",
       "  </thead>\n",
       "  <tbody>\n",
       "    <tr>\n",
       "      <th>0</th>\n",
       "      <td>0</td>\n",
       "      <td>We know that power is shifting: From West to E...</td>\n",
       "      <td>0.0</td>\n",
       "      <td>Moisés Naím</td>\n",
       "      <td>Business</td>\n",
       "      <td>https://i.gr-assets.com/images/S/compressed.ph...</td>\n",
       "      <td>3.63</td>\n",
       "      <td>The End of Power: From Boardrooms to Battlefie...</td>\n",
       "      <td>know power shifting west east north south pres...</td>\n",
       "      <td>end power boardrooms battlefields churches sta...</td>\n",
       "    </tr>\n",
       "  </tbody>\n",
       "</table>\n",
       "</div>"
      ],
      "text/plain": [
       "   Unnamed: 0.1                                               Desc  \\\n",
       "0             0  We know that power is shifting: From West to E...   \n",
       "\n",
       "   Unnamed: 0       author     genre  \\\n",
       "0         0.0  Moisés Naím  Business   \n",
       "\n",
       "                                          image_link  rating  \\\n",
       "0  https://i.gr-assets.com/images/S/compressed.ph...    3.63   \n",
       "\n",
       "                                               title  \\\n",
       "0  The End of Power: From Boardrooms to Battlefie...   \n",
       "\n",
       "                                             cleaned  \\\n",
       "0  know power shifting west east north south pres...   \n",
       "\n",
       "                                       title_cleaned  \n",
       "0  end power boardrooms battlefields churches sta...  "
      ]
     },
     "execution_count": 6,
     "metadata": {},
     "output_type": "execute_result"
    }
   ],
   "source": [
    "# 제목도 특수문자 제거, 소문자화\n",
    "df['title_cleaned'] = df['title'].apply(_removeNonAscii)\n",
    "df['title_cleaned'] = df.title_cleaned.apply(make_lower_case)\n",
    "df['title_cleaned'] = df.title_cleaned.apply(remove_stop_words)\n",
    "df['title_cleaned'] = df.title_cleaned.apply(remove_punctuation)\n",
    "df['title_cleaned'] = df.title_cleaned.apply(remove_html)\n",
    "df.head(1)"
   ]
  },
  {
   "cell_type": "code",
   "execution_count": 7,
   "id": "975aeddc-b0f3-42f1-84de-3bcce5a76197",
   "metadata": {},
   "outputs": [],
   "source": [
    "# (1) 가장 유사한 제목 검색\n",
    "# 코사인 유사도, fuzzywuzzy 사용"
   ]
  },
  {
   "cell_type": "code",
   "execution_count": 8,
   "id": "2a0ecb38-7333-472c-b389-0682a23b9576",
   "metadata": {},
   "outputs": [],
   "source": [
    "# !pip install fuzzywuzzy python-Levenshtein"
   ]
  },
  {
   "cell_type": "code",
   "execution_count": 9,
   "id": "6694e3d2-e97b-406d-aabc-4a308875b682",
   "metadata": {},
   "outputs": [],
   "source": [
    "# 라이브러리 import\n",
    "import pandas as pd\n",
    "from sklearn.feature_extraction.text import TfidfVectorizer\n",
    "from sklearn.metrics.pairwise import cosine_similarity\n",
    "from fuzzywuzzy import process\n",
    "\n",
    "# 데이터 로드\n",
    "df2 = df.copy()\n",
    "titles = df2['title_cleaned'].tolist()\n",
    "titles_origin = df2['title'].tolist()"
   ]
  },
  {
   "cell_type": "code",
   "execution_count": 10,
   "id": "c0bc72bb-65ae-4be5-b2cb-92b55d857d7a",
   "metadata": {},
   "outputs": [],
   "source": [
    "# 코사인 유사도\n",
    "\n",
    "# TF-IDF 벡터화\n",
    "tfidf_vect = TfidfVectorizer()\n",
    "tfidf_matrix = tfidf_vect.fit_transform(titles)\n",
    "\n",
    "def find_similar_titles(query, top_n=3):\n",
    "    \n",
    "    # 입력 쿼리를 TF-IDF 벡터로 변환\n",
    "    query_vector = tfidf_vect.transform([query])\n",
    "\n",
    "    # 코사인 유사도 계산\n",
    "    similarity_scores = cosine_similarity(query_vector, tfidf_matrix)\n",
    "\n",
    "    # 유사도 점수와 인덱스를 함께 저장\n",
    "    similarity_with_index = list(enumerate(similarity_scores[0]))\n",
    "\n",
    "    # 유사도 점수를 기준으로 내림차순 정렬\n",
    "    sorted_similarity = sorted(similarity_with_index, key=lambda x: x[1], reverse=True)\n",
    "\n",
    "    # 상위 N개 결과 추출\n",
    "    top_results = sorted_similarity[:top_n]\n",
    "\n",
    "    # 결과 반환 (제목과 유사도 점수)\n",
    "    results = [(titles_origin[i], score) for i, score in top_results]\n",
    "    print(f\"'{query}'와(과) 가장 유사한 제목의 영화 검색:\\n\")\n",
    "    print(f\"코사인 기반 가장 유사한 제목:\")\n",
    "    for i, (title, score) in enumerate(results):\n",
    "        print(f\"{i+1}. {title:50} (유사도: {score:.4f})\") # 제목 길이 50으로 맞추고, 유사도는 소수점 4자리까지 출력\n",
    "    return results"
   ]
  },
  {
   "cell_type": "code",
   "execution_count": 11,
   "id": "acdf0275-1bf5-4ef7-8f06-1c4ed21d6003",
   "metadata": {},
   "outputs": [],
   "source": [
    "# fuzzywuzzy 사용\n",
    "\n",
    "def fuzzy_find_best_match(query, choices):\n",
    "    best_match, score = process.extractOne(query, choices)\n",
    "    rows = df2[df2['title_cleaned'] == best_match]\n",
    "    best_match_title = rows['title'].iloc[0]\n",
    "    return best_match_title, score"
   ]
  },
  {
   "cell_type": "code",
   "execution_count": 12,
   "id": "94879b89-8bc6-447e-bd47-ed2a1132214c",
   "metadata": {},
   "outputs": [
    {
     "name": "stdout",
     "output_type": "stream",
     "text": [
      "-----------------대소문자 오타 발생 시------------------\n",
      "\n",
      "'the Da vinci codE'와(과) 가장 유사한 제목의 영화 검색:\n",
      "\n",
      "코사인 기반 가장 유사한 제목:\n",
      "1. The Da Vinci Code                                  (유사도: 0.8771)\n",
      "2. Winnie-the-Pooh                                    (유사도: 0.2551)\n",
      "3. Code Name Verity                                   (유사도: 0.2231)\n"
     ]
    },
    {
     "data": {
      "text/plain": [
       "[('The Da Vinci Code', 0.8771443900261693),\n",
       " ('Winnie-the-Pooh', 0.2550895649146426),\n",
       " ('Code Name Verity', 0.22310056769463926)]"
      ]
     },
     "execution_count": 12,
     "metadata": {},
     "output_type": "execute_result"
    },
    {
     "name": "stdout",
     "output_type": "stream",
     "text": [
      "\n",
      "Fuzzy Matching 기반 가장 유사한 제목:\n",
      "The Da Vinci Code (점수: 95)\n"
     ]
    }
   ],
   "source": [
    "print(\"-----------------대소문자 오타 발생 시------------------\\n\")\n",
    "\n",
    "find_similar_titles(\"the Da vinci codE\")\n",
    "best_match, score = fuzzy_find_best_match(\"the Da vinci codE\", titles)\n",
    "print(f'\\nFuzzy Matching 기반 가장 유사한 제목:')\n",
    "print(f'{best_match} (점수: {score})')"
   ]
  },
  {
   "cell_type": "code",
   "execution_count": 13,
   "id": "9f8e80cc-415a-4281-bc46-d7c02b4beb1d",
   "metadata": {},
   "outputs": [
    {
     "name": "stdout",
     "output_type": "stream",
     "text": [
      "-----------------띄어쓰기 오류 발생 시------------------\n",
      "\n",
      "'dav inci cod e'와(과) 가장 유사한 제목의 영화 검색:\n",
      "\n",
      "코사인 기반 가장 유사한 제목:\n",
      "1. The End of Power: From Boardrooms to Battlefields and Churches to States, Why Being In Charge Isn't What It Used to Be (유사도: 0.0000)\n",
      "2. Console Wars: Sega, Nintendo, and the Battle that Defined a Generation (유사도: 0.0000)\n",
      "3. Trust Agents: Using the Web to Build Influence, Improve Reputation, and Earn Trust (유사도: 0.0000)\n"
     ]
    },
    {
     "data": {
      "text/plain": [
       "[(\"The End of Power: From Boardrooms to Battlefields and Churches to States, Why Being In Charge Isn't What It Used to Be\",\n",
       "  0.0),\n",
       " ('Console Wars: Sega, Nintendo, and the Battle that Defined a Generation',\n",
       "  0.0),\n",
       " ('Trust Agents: Using the Web to Build Influence, Improve Reputation, and Earn Trust',\n",
       "  0.0)]"
      ]
     },
     "execution_count": 13,
     "metadata": {},
     "output_type": "execute_result"
    },
    {
     "name": "stdout",
     "output_type": "stream",
     "text": [
      "\n",
      "Fuzzy Matching 기반 가장 유사한 제목:\n",
      "The Da Vinci Code (점수: 89)\n"
     ]
    }
   ],
   "source": [
    "print(\"-----------------띄어쓰기 오류 발생 시------------------\\n\")\n",
    "\n",
    "find_similar_titles(\"dav inci cod e\")\n",
    "best_match, score = fuzzy_find_best_match(\"dav inci cod e\", titles)\n",
    "print(f'\\nFuzzy Matching 기반 가장 유사한 제목:')\n",
    "print(f'{best_match} (점수: {score})')"
   ]
  },
  {
   "cell_type": "code",
   "execution_count": 14,
   "id": "4da24060-07fe-4aad-8750-2730a6166770",
   "metadata": {},
   "outputs": [
    {
     "name": "stdout",
     "output_type": "stream",
     "text": [
      "-----------------철자를 틀렸을 시 1------------------\n",
      "\n",
      "'da vinciiii codhh'와(과) 가장 유사한 제목의 영화 검색:\n",
      "\n",
      "코사인 기반 가장 유사한 제목:\n",
      "1. The Da Vinci Code                                  (유사도: 0.6175)\n",
      "2. The End of Power: From Boardrooms to Battlefields and Churches to States, Why Being In Charge Isn't What It Used to Be (유사도: 0.0000)\n",
      "3. Console Wars: Sega, Nintendo, and the Battle that Defined a Generation (유사도: 0.0000)\n"
     ]
    },
    {
     "data": {
      "text/plain": [
       "[('The Da Vinci Code', 0.6174876214538709),\n",
       " (\"The End of Power: From Boardrooms to Battlefields and Churches to States, Why Being In Charge Isn't What It Used to Be\",\n",
       "  0.0),\n",
       " ('Console Wars: Sega, Nintendo, and the Battle that Defined a Generation',\n",
       "  0.0)]"
      ]
     },
     "execution_count": 14,
     "metadata": {},
     "output_type": "execute_result"
    },
    {
     "name": "stdout",
     "output_type": "stream",
     "text": [
      "\n",
      "Fuzzy Matching 기반 가장 유사한 제목:\n",
      "The Da Vinci Code (점수: 89)\n"
     ]
    }
   ],
   "source": [
    "print(\"-----------------철자를 틀렸을 시 1------------------\\n\")\n",
    "\n",
    "find_similar_titles(\"da vinciiii codhh\")\n",
    "best_match, score = fuzzy_find_best_match(\"da vinci codhh\", titles)\n",
    "print(f'\\nFuzzy Matching 기반 가장 유사한 제목:')\n",
    "print(f'{best_match} (점수: {score})')"
   ]
  },
  {
   "cell_type": "code",
   "execution_count": 15,
   "id": "ea1f94de-e80b-4f8d-bbd9-df0f322a7212",
   "metadata": {},
   "outputs": [
    {
     "name": "stdout",
     "output_type": "stream",
     "text": [
      "-----------------철자를 틀렸을 시 2------------------\n",
      "\n",
      "'dE voncI cOdee'와(과) 가장 유사한 제목의 영화 검색:\n",
      "\n",
      "코사인 기반 가장 유사한 제목:\n",
      "1. The Thousand Autumns of Jacob de Zoet              (유사도: 0.4618)\n",
      "2. The End of Power: From Boardrooms to Battlefields and Churches to States, Why Being In Charge Isn't What It Used to Be (유사도: 0.0000)\n",
      "3. Console Wars: Sega, Nintendo, and the Battle that Defined a Generation (유사도: 0.0000)\n"
     ]
    },
    {
     "data": {
      "text/plain": [
       "[('The Thousand Autumns of Jacob de Zoet', 0.4618398305594133),\n",
       " (\"The End of Power: From Boardrooms to Battlefields and Churches to States, Why Being In Charge Isn't What It Used to Be\",\n",
       "  0.0),\n",
       " ('Console Wars: Sega, Nintendo, and the Battle that Defined a Generation',\n",
       "  0.0)]"
      ]
     },
     "execution_count": 15,
     "metadata": {},
     "output_type": "execute_result"
    },
    {
     "name": "stdout",
     "output_type": "stream",
     "text": [
      "\n",
      "Fuzzy Matching 기반 가장 유사한 제목:\n",
      "The Thousand Autumns of Jacob de Zoet (점수: 86)\n"
     ]
    }
   ],
   "source": [
    "print(\"-----------------철자를 틀렸을 시 2------------------\\n\")\n",
    "\n",
    "find_similar_titles(\"dE voncI cOdee\")\n",
    "best_match, score = fuzzy_find_best_match(\"dE voncI cOdee\", titles)\n",
    "print(f'\\nFuzzy Matching 기반 가장 유사한 제목:')\n",
    "print(f'{best_match} (점수: {score})')"
   ]
  },
  {
   "cell_type": "code",
   "execution_count": 16,
   "id": "1a4b0ce0-9946-47b2-934d-3aad3f64c7c4",
   "metadata": {},
   "outputs": [
    {
     "name": "stdout",
     "output_type": "stream",
     "text": [
      "-----------------영화 제목의 일부만 검색했을 시------------------\n",
      "\n",
      "'the end of the tower'와(과) 가장 유사한 제목의 영화 검색:\n",
      "\n",
      "코사인 기반 가장 유사한 제목:\n",
      "1. Winnie-the-Pooh                                    (유사도: 0.4347)\n",
      "2. The Dark Tower                                     (유사도: 0.3623)\n",
      "3. My Life And Work (The Autobiography Of Henry Ford) (유사도: 0.3537)\n"
     ]
    },
    {
     "data": {
      "text/plain": [
       "[('Winnie-the-Pooh', 0.43466145166574033),\n",
       " ('The Dark Tower', 0.36225368281990367),\n",
       " ('My Life And Work (The Autobiography Of Henry Ford)', 0.3537315139373847)]"
      ]
     },
     "execution_count": 16,
     "metadata": {},
     "output_type": "execute_result"
    },
    {
     "name": "stdout",
     "output_type": "stream",
     "text": [
      "\n",
      "Fuzzy Matching 기반 가장 유사한 제목:\n",
      "The End of Power: From Boardrooms to Battlefields and Churches to States, Why Being In Charge Isn't What It Used to Be (점수: 86)\n"
     ]
    }
   ],
   "source": [
    "print(\"-----------------영화 제목의 일부만 검색했을 시------------------\\n\")\n",
    "\n",
    "find_similar_titles(\"the end of the tower\")\n",
    "best_match, score = fuzzy_find_best_match(\"the end of the tower\", titles)\n",
    "print(f'\\nFuzzy Matching 기반 가장 유사한 제목:')\n",
    "print(f'{best_match} (점수: {score})')"
   ]
  },
  {
   "cell_type": "code",
   "execution_count": 17,
   "id": "076b077f-b933-44d2-8a79-bf4d72af301a",
   "metadata": {},
   "outputs": [],
   "source": [
    "##################################"
   ]
  },
  {
   "cell_type": "code",
   "execution_count": 18,
   "id": "21494dac-29b2-4f4b-8f27-1cab449faab0",
   "metadata": {},
   "outputs": [],
   "source": [
    "# (3) 영화 추천 모델 구축"
   ]
  },
  {
   "cell_type": "code",
   "execution_count": 19,
   "id": "a90c75c3-9fa9-49f0-aab6-b4881b5a01f2",
   "metadata": {},
   "outputs": [],
   "source": [
    "from gensim.models.doc2vec import TaggedDocument\n",
    "from konlpy.tag import Okt\n",
    "okt = Okt()"
   ]
  },
  {
   "cell_type": "code",
   "execution_count": 20,
   "id": "69faaae0-14de-4587-99e8-993a50111736",
   "metadata": {},
   "outputs": [
    {
     "name": "stderr",
     "output_type": "stream",
     "text": [
      "100%|█████████████████████████████████████████████████████████████████████████████| 2382/2382 [00:14<00:00, 162.83it/s]"
     ]
    },
    {
     "name": "stdout",
     "output_type": "stream",
     "text": [
      "문서의 수 : 2382\n",
      "CPU times: total: 17.5 s\n",
      "Wall time: 14.7 s\n"
     ]
    },
    {
     "name": "stderr",
     "output_type": "stream",
     "text": [
      "\n"
     ]
    }
   ],
   "source": [
    "%%time\n",
    "from tqdm import tqdm\n",
    "\n",
    "tagged_corpus_list = []\n",
    "\n",
    "for index, row in tqdm(df2.iterrows(), total=len(df2)):\n",
    "  text = row['cleaned']\n",
    "  tag = row['title']\n",
    "  tagged_corpus_list.append(TaggedDocument(tags=[tag], words=okt.morphs(text)))\n",
    "\n",
    "print('문서의 수 :', len(tagged_corpus_list))"
   ]
  },
  {
   "cell_type": "code",
   "execution_count": 21,
   "id": "8cc72c1a-3568-477d-ac58-9d6258c79b29",
   "metadata": {},
   "outputs": [],
   "source": [
    "from gensim.models import Doc2Vec\n",
    "model = Doc2Vec(vector_size=300, workers=8, window=8)"
   ]
  },
  {
   "cell_type": "code",
   "execution_count": 22,
   "id": "dd2c6cf3-64f6-44ee-9028-2fc0a9fe5342",
   "metadata": {},
   "outputs": [],
   "source": [
    "# Vocabulary 빌드\n",
    "model.build_vocab(tagged_corpus_list)\n",
    "\n",
    "# Doc2Vec 학습\n",
    "model.train(tagged_corpus_list, total_examples=model.corpus_count, epochs=20)"
   ]
  },
  {
   "cell_type": "code",
   "execution_count": 23,
   "id": "818fb2bf-5443-4495-91d8-c2335908dac6",
   "metadata": {},
   "outputs": [],
   "source": [
    "# 함수 작성\n",
    "# fuzzywuzzy 함수 간략화\n",
    "def fuzzy_find_best_match(query, choices):\n",
    "    best_match, score = process.extractOne(query, choices)\n",
    "    rows = df2[df2['title_cleaned'] == best_match]\n",
    "    best_match_title = rows['title'].iloc[0]\n",
    "    return best_match_title\n",
    "    \n",
    "# 도서 추천 함수 작성\n",
    "def book_recommend(title):\n",
    "\n",
    "    try:\n",
    "        similar_doc = model.dv.most_similar(title)\n",
    "        print(f'[{title}과(와) 유사한 추천 도서]\\n')\n",
    "        for i in similar_doc:\n",
    "            print(i[0])\n",
    "    except KeyError:\n",
    "        print(f\"입력하신 도서 '{title}'에 대한 정보를 찾을 수 없습니다.\")"
   ]
  },
  {
   "cell_type": "code",
   "execution_count": 24,
   "id": "46ed1cd6-f81e-4303-993e-52def7f6ca4b",
   "metadata": {},
   "outputs": [
    {
     "name": "stdin",
     "output_type": "stream",
     "text": [
      "도서명 입력: \n",
      " da vinchhhhhhh codrrrr\n"
     ]
    },
    {
     "name": "stdout",
     "output_type": "stream",
     "text": [
      "[The Da Vinci Code과(와) 유사한 추천 도서]\n",
      "\n",
      "State of Wonder\n",
      "The Divine Comedy\n",
      "Inferno\n",
      "All the Light We Cannot See\n",
      "Snow\n",
      "Watership Down\n",
      "Madame Bovary\n",
      "The Girl with the Dragon Tattoo\n",
      "Origin\n",
      "The Drawing of the Three\n"
     ]
    }
   ],
   "source": [
    "# 도서명(title) 입력 \n",
    "title = input('도서명 입력: \\n')\n",
    "best_title = fuzzy_find_best_match(title, titles)\n",
    "book_recommend(best_title)"
   ]
  }
 ],
 "metadata": {
  "kernelspec": {
   "display_name": "DEEP_NLP_ENV",
   "language": "python",
   "name": "deepnlpenv"
  },
  "language_info": {
   "codemirror_mode": {
    "name": "ipython",
    "version": 3
   },
   "file_extension": ".py",
   "mimetype": "text/x-python",
   "name": "python",
   "nbconvert_exporter": "python",
   "pygments_lexer": "ipython3",
   "version": "3.11.5"
  }
 },
 "nbformat": 4,
 "nbformat_minor": 5
}
